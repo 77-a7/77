{
 "cells": [
  {
   "cell_type": "code",
   "execution_count": 10,
   "id": "97e535b1-c640-46e9-8f2e-fe2e18d40772",
   "metadata": {},
   "outputs": [],
   "source": [
    "import numpy as np\n",
    "import matplotlib.pyplot as plt\n",
    "from mpl_toolkits.mplot3d import Axes3D\n",
    "\n",
    "def f(x, y):\n",
    "    return x**2 + y**2\n",
    "\n",
    "def grad_f(x, y):\n",
    "    fx = 2 * x\n",
    "    fy = 2 * y\n",
    "    return np.array([fx, fy])\n",
    "\n",
    "learning_rate = 0.1\n",
    "num_iterations = 20\n",
    "\n",
    "x0 = 1.0\n",
    "y0 = 1.0\n",
    "\n",
    "\n",
    "loss_values = []\n",
    "x_values = []\n",
    "y_values = []\n",
    "\n",
    "for i in range(num_iterations):\n",
    "    grad = grad_f(x0, y0)\n",
    "    loss = f(x0, y0)\n",
    "    loss_values.append(loss)\n",
    "    x_values.append(x0)\n",
    "    y_values.append(y0)\n",
    "    \n",
    "\n",
    "    x0 -= learning_rate * grad[0]\n",
    "    y0 -= learning_rate * grad[1]"
   ]
  },
  {
   "cell_type": "code",
   "execution_count": null,
   "id": "b546027e-3e14-4932-a883-50080cbb192e",
   "metadata": {},
   "outputs": [
    {
     "data": {
      "text/plain": [
       "<matplotlib.legend.Legend at 0x2e893f16970>"
      ]
     },
     "execution_count": 11,
     "metadata": {},
     "output_type": "execute_result"
    }
   ],
   "source": [
    "plt.figure(figsize=(12, 5))\n",
    "plt.subplot(1, 2, 1)\n",
    "plt.plot(loss_values, label='Loss')\n",
    "plt.xlabel('Iteration')\n",
    "plt.ylabel('Loss')\n",
    "plt.title('Loss Curve')\n",
    "plt.legend()"
   ]
  },
  {
   "cell_type": "code",
   "execution_count": null,
   "id": "8c80a6cf-a573-4abd-88e7-265722ff7564",
   "metadata": {},
   "outputs": [],
   "source": []
  }
 ],
 "metadata": {
  "kernelspec": {
   "display_name": "py39sq",
   "language": "python",
   "name": "sq"
  },
  "language_info": {
   "codemirror_mode": {
    "name": "ipython",
    "version": 3
   },
   "file_extension": ".py",
   "mimetype": "text/x-python",
   "name": "python",
   "nbconvert_exporter": "python",
   "pygments_lexer": "ipython3",
   "version": "3.9.13"
  }
 },
 "nbformat": 4,
 "nbformat_minor": 5
}
