{
 "cells": [
  {
   "cell_type": "code",
   "execution_count": 1,
   "id": "fba31efa-7c1f-4089-b3b0-8df33ecdba23",
   "metadata": {},
   "outputs": [
    {
     "name": "stdout",
     "output_type": "stream",
     "text": [
      "VideoObject(id='422917320708545249216575681093605241', model='cogvideox', video_result=None, task_status='PROCESSING', request_id='9216575681093605240')\n"
     ]
    }
   ],
   "source": [
    "from zhipuai import ZhipuAI\n",
    "client = ZhipuAI(api_key=\"7c2cc07b3a55e1e432f69dc3d1be68eb.QTApq3BSLVDYH99y\")\n",
    "\n",
    "response = client.videos.generations(\n",
    "    model=\"cogvideox\",\n",
    "    image_url = 'http://gips3.baidu.com/it/u=3419425165,837936650&fm=3028&app=3028&f=JPEG&fmt=auto?w=1024&h=1024',\n",
    "    prompt=\"一只老鼠（主体）在厨房偷吃（动作）糖果\"\n",
    ")\n",
    "print(response)"
   ]
  },
  {
   "cell_type": "code",
   "execution_count": 10,
   "id": "969253f7-3c1f-4447-9696-de05ce4a1660",
   "metadata": {},
   "outputs": [
    {
     "name": "stdout",
     "output_type": "stream",
     "text": [
      "VideoObject(id=None, model='cogvideox', video_result=[VideoResult(url='https://aigc-files.bigmodel.cn/api/cogvideo/ab0d9e72-a7b1-11ef-bea3-fa5f52131d8b_0.mp4', cover_image_url='https://aigc-files.bigmodel.cn/api/cogvideo/ab0d9e72-a7b1-11ef-bea3-fa5f52131d8b_cover_0.jpeg')], task_status='SUCCESS', request_id='9216575681093605240')\n"
     ]
    }
   ],
   "source": [
    "from zhipuai import ZhipuAI\n",
    "client = ZhipuAI(api_key=\"7c2cc07b3a55e1e432f69dc3d1be68eb.QTApq3BSLVDYH99y\")\n",
    "\n",
    "response = client.videos.retrieve_videos_result(\n",
    "    id=\"422917320708545249216575681093605241\"\n",
    ")\n",
    "print(response)"
   ]
  },
  {
   "cell_type": "code",
   "execution_count": null,
   "id": "66ee8f6d-0597-4d96-b112-31985a85de8f",
   "metadata": {},
   "outputs": [],
   "source": []
  }
 ],
 "metadata": {
  "kernelspec": {
   "display_name": "py39sq",
   "language": "python",
   "name": "sq"
  },
  "language_info": {
   "codemirror_mode": {
    "name": "ipython",
    "version": 3
   },
   "file_extension": ".py",
   "mimetype": "text/x-python",
   "name": "python",
   "nbconvert_exporter": "python",
   "pygments_lexer": "ipython3",
   "version": "3.9.13"
  }
 },
 "nbformat": 4,
 "nbformat_minor": 5
}
