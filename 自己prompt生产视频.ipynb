{
 "cells": [
  {
   "cell_type": "code",
   "execution_count": 45,
   "id": "a18d975e-c760-4605-a18c-d57ab2d13b3f",
   "metadata": {},
   "outputs": [
    {
     "name": "stdout",
     "output_type": "stream",
     "text": [
      "VideoObject(id='422917320708545249216575921611902219', model='cogvideox', video_result=None, task_status='PROCESSING', request_id='9216575921611902218')\n"
     ]
    }
   ],
   "source": [
    "from zhipuai import ZhipuAI\n",
    "client = ZhipuAI(api_key=\"7c2cc07b3a55e1e432f69dc3d1be68eb.QTApq3BSLVDYH99y\")\n",
    "\n",
    "response = client.videos.generations(\n",
    "    model=\"cogvideox\",\n",
    "    prompt=\"white cat\"\n",
    ")\n",
    "print(response)"
   ]
  },
  {
   "cell_type": "code",
   "execution_count": 50,
   "id": "43e19b3c-887f-46f4-afa1-f5e412c36d8b",
   "metadata": {},
   "outputs": [
    {
     "name": "stdout",
     "output_type": "stream",
     "text": [
      "VideoObject(id=None, model='cogvideox', video_result=[VideoResult(url='https://aigc-files.bigmodel.cn/api/cogvideo/64bf1444-a7a9-11ef-a354-628f45da38f5_0.mp4', cover_image_url='https://aigc-files.bigmodel.cn/api/cogvideo/64bf1444-a7a9-11ef-a354-628f45da38f5_cover_0.jpeg')], task_status='SUCCESS', request_id='9216575921611902218')\n"
     ]
    }
   ],
   "source": [
    "from zhipuai import ZhipuAI\n",
    "client = ZhipuAI(api_key=\"7c2cc07b3a55e1e432f69dc3d1be68eb.QTApq3BSLVDYH99y\")\n",
    "\n",
    "response = client.videos.retrieve_videos_result(\n",
    "    id=\"422917320708545249216575921611902219\"\n",
    ")\n",
    "print(response)"
   ]
  },
  {
   "cell_type": "code",
   "execution_count": null,
   "id": "210d1748-b2fc-46b5-a301-9fcc2e758704",
   "metadata": {},
   "outputs": [],
   "source": []
  }
 ],
 "metadata": {
  "kernelspec": {
   "display_name": "py39sq",
   "language": "python",
   "name": "sq"
  },
  "language_info": {
   "codemirror_mode": {
    "name": "ipython",
    "version": 3
   },
   "file_extension": ".py",
   "mimetype": "text/x-python",
   "name": "python",
   "nbconvert_exporter": "python",
   "pygments_lexer": "ipython3",
   "version": "3.9.13"
  }
 },
 "nbformat": 4,
 "nbformat_minor": 5
}
