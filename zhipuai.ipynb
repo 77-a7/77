{
 "cells": [
  {
   "cell_type": "code",
   "execution_count": 6,
   "id": "20cb3f6d-2564-422b-b128-092de551b6c4",
   "metadata": {},
   "outputs": [],
   "source": [
    "import os\n",
    "import base64"
   ]
  },
  {
   "cell_type": "code",
   "execution_count": 10,
   "id": "659527e3-77b3-4460-87c0-28759a9f3f79",
   "metadata": {},
   "outputs": [],
   "source": [
    "from zhipuai import ZhipuAI\n",
    "os.environ[\"ZHIPUAI_API_KEY\"] = \"7c2cc07b3a55e1e432f69dc3d1be68eb.QTApq3BSLVDYH99y\"\n",
    "client = ZhipuAI()"
   ]
  },
  {
   "cell_type": "code",
   "execution_count": 13,
   "id": "9fdd4025-9518-4758-bb1b-b53efd3a2005",
   "metadata": {},
   "outputs": [
    {
     "name": "stdout",
     "output_type": "stream",
     "text": [
      "通常来说，视频理解的响应时间较长，需要等待数十秒......\n",
      "CompletionMessage(content='好的,我会尽力用幽默的方式来描述这个视频。\\n\\n在这个视频中,有一只可爱的小猫咪。它看起来非常年轻,毛色是柔软的灰色和白色相间。小猫咪正坐在一张舒适的床上,它的眼睛睁得大大的,好像对周围的一切都感到好奇。\\n\\n突然间,小猫咪开始做起了有趣的动作。它把身体蜷缩成一个球状,然后不停地摇晃着尾巴。接着,它又伸出了自己的爪子,像是在玩耍一样地挥舞着它们。最后,小猫咪甚至开始跳起舞来,它的身体轻盈地扭动着,就像一个快乐的小精灵。\\n\\n总的来说,这个视频展示了一只充满活力和好奇心的小猫咪,它在床上做着各种有趣的动作,让人不禁会心一笑。', role='assistant', tool_calls=None)\n"
     ]
    }
   ],
   "source": [
    "video_path = \"video_1.mp4\"\n",
    "with open(video_path, 'rb') as video_file:\n",
    "    video_base = base64.b64encode(video_file.read()).decode('utf-8')\n",
    "    \n",
    "print(\"通常来说，视频理解的响应时间较长，需要等待数十秒......\")\n",
    "\n",
    "response = client.chat.completions.create(\n",
    "    model=\"glm-4v-plus\",\n",
    "    temperature=0.0,\n",
    "    top_p=0,\n",
    "    \n",
    "    messages=[{\n",
    "        \"role\":\"user\",\n",
    "        \"content\":[{\n",
    "            \"type\":\"video_url\",\n",
    "            \"video_url\":{\"url\":video_base}\n",
    "        },{\n",
    "            \"type\":\"text\",\n",
    "            \"text\":\"请仔细描述这个视频的环境，图中的小猫在干啥，以有趣的方式讲给我听\"\n",
    "        }]\n",
    "    }]\n",
    ")\n",
    "print(response.choices[0].message)"
   ]
  },
  {
   "cell_type": "code",
   "execution_count": null,
   "id": "d731b40e-d56f-4530-b8c8-bc4bab81e278",
   "metadata": {},
   "outputs": [],
   "source": []
  }
 ],
 "metadata": {
  "kernelspec": {
   "display_name": "py39sq",
   "language": "python",
   "name": "sq"
  },
  "language_info": {
   "codemirror_mode": {
    "name": "ipython",
    "version": 3
   },
   "file_extension": ".py",
   "mimetype": "text/x-python",
   "name": "python",
   "nbconvert_exporter": "python",
   "pygments_lexer": "ipython3",
   "version": "3.9.13"
  }
 },
 "nbformat": 4,
 "nbformat_minor": 5
}
